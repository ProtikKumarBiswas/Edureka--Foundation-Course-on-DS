{
 "cells": [
  {
   "cell_type": "markdown",
   "id": "1d460dbb",
   "metadata": {},
   "source": [
    "#### Correct Indentaion"
   ]
  },
  {
   "cell_type": "code",
   "execution_count": 1,
   "id": "79763384",
   "metadata": {},
   "outputs": [
    {
     "name": "stdout",
     "output_type": "stream",
     "text": [
      "0\n",
      "1\n",
      "2\n",
      "3\n",
      "4\n",
      "5\n",
      "6\n",
      "7\n",
      "8\n",
      "9\n"
     ]
    }
   ],
   "source": [
    "for i in range(10):\n",
    "    print(i)"
   ]
  },
  {
   "cell_type": "code",
   "execution_count": 6,
   "id": "f3e659b4",
   "metadata": {},
   "outputs": [],
   "source": [
    "a = 45\n",
    "b = 45"
   ]
  },
  {
   "cell_type": "code",
   "execution_count": 7,
   "id": "7d7ac328",
   "metadata": {},
   "outputs": [
    {
     "data": {
      "text/plain": [
       "45"
      ]
     },
     "execution_count": 7,
     "metadata": {},
     "output_type": "execute_result"
    }
   ],
   "source": [
    "a"
   ]
  },
  {
   "cell_type": "code",
   "execution_count": 8,
   "id": "24c3df5f",
   "metadata": {},
   "outputs": [
    {
     "data": {
      "text/plain": [
       "45"
      ]
     },
     "execution_count": 8,
     "metadata": {},
     "output_type": "execute_result"
    }
   ],
   "source": [
    "b"
   ]
  },
  {
   "cell_type": "code",
   "execution_count": 9,
   "id": "86575927",
   "metadata": {},
   "outputs": [
    {
     "name": "stdout",
     "output_type": "stream",
     "text": [
      "True\n"
     ]
    }
   ],
   "source": [
    "print(a==b)"
   ]
  },
  {
   "cell_type": "code",
   "execution_count": 10,
   "id": "9b95d334",
   "metadata": {},
   "outputs": [
    {
     "name": "stdout",
     "output_type": "stream",
     "text": [
      "False\n"
     ]
    }
   ],
   "source": [
    "print(a!=b)"
   ]
  },
  {
   "cell_type": "code",
   "execution_count": 11,
   "id": "a527cd70",
   "metadata": {},
   "outputs": [
    {
     "name": "stdout",
     "output_type": "stream",
     "text": [
      "True\n"
     ]
    }
   ],
   "source": [
    "print(a<=b)"
   ]
  },
  {
   "cell_type": "code",
   "execution_count": 13,
   "id": "c7a8fd4d",
   "metadata": {},
   "outputs": [],
   "source": [
    "a = 23\n",
    "b = 45"
   ]
  },
  {
   "cell_type": "code",
   "execution_count": 14,
   "id": "75e27618",
   "metadata": {},
   "outputs": [
    {
     "name": "stdout",
     "output_type": "stream",
     "text": [
      "True\n"
     ]
    }
   ],
   "source": [
    "print(a<b)"
   ]
  },
  {
   "cell_type": "markdown",
   "id": "5f6c2543",
   "metadata": {},
   "source": [
    "### if condition"
   ]
  },
  {
   "cell_type": "code",
   "execution_count": 15,
   "id": "515d7289",
   "metadata": {},
   "outputs": [
    {
     "name": "stdout",
     "output_type": "stream",
     "text": [
      "a is greater than b\n"
     ]
    }
   ],
   "source": [
    "a = 45\n",
    "b = 22\n",
    "if a > b:\n",
    "    print(\"a is greater than b\")"
   ]
  },
  {
   "cell_type": "markdown",
   "id": "2c5fb8b1",
   "metadata": {},
   "source": [
    "### elif"
   ]
  },
  {
   "cell_type": "code",
   "execution_count": 17,
   "id": "84cc2c0f",
   "metadata": {},
   "outputs": [
    {
     "name": "stdout",
     "output_type": "stream",
     "text": [
      "b is less than b\n"
     ]
    }
   ],
   "source": [
    "a = 45\n",
    "b = 22\n",
    "if a < b:\n",
    "    print(\"a is less than b\")\n",
    "elif b < a:\n",
    "    print(\"b is less than b\")"
   ]
  },
  {
   "cell_type": "markdown",
   "id": "05d857a8",
   "metadata": {},
   "source": [
    "### else"
   ]
  },
  {
   "cell_type": "code",
   "execution_count": 18,
   "id": "6678ace7",
   "metadata": {},
   "outputs": [
    {
     "name": "stdout",
     "output_type": "stream",
     "text": [
      "a and b are equal\n"
     ]
    }
   ],
   "source": [
    "a = 22\n",
    "b = 22\n",
    "if a < b:\n",
    "    print(\"a is less than b\")\n",
    "elif b < a:\n",
    "    print(\"b is less than b\")\n",
    "else:\n",
    "    print(\"a and b are equal\")"
   ]
  },
  {
   "cell_type": "markdown",
   "id": "b2ec0377",
   "metadata": {},
   "source": [
    "### and"
   ]
  },
  {
   "cell_type": "code",
   "execution_count": 22,
   "id": "8d3da971",
   "metadata": {},
   "outputs": [
    {
     "name": "stdout",
     "output_type": "stream",
     "text": [
      "C is the greatest\n"
     ]
    }
   ],
   "source": [
    "A = 100\n",
    "B = 200\n",
    "C = 300\n",
    "if C > A and C > B:\n",
    "    print(\"C is the greatest\")\n",
    "else:\n",
    "    print(\"C is not the greatest\")"
   ]
  },
  {
   "cell_type": "code",
   "execution_count": 21,
   "id": "fa996637",
   "metadata": {},
   "outputs": [
    {
     "name": "stdout",
     "output_type": "stream",
     "text": [
      "C is not the greatest\n"
     ]
    }
   ],
   "source": [
    "A = 300\n",
    "B = 200\n",
    "C = 300\n",
    "if C > A and C > B:\n",
    "    print(\"C is the greatest\")\n",
    "else:\n",
    "    print(\"C is not the greatest\")"
   ]
  },
  {
   "cell_type": "markdown",
   "id": "61def5cf",
   "metadata": {},
   "source": [
    "### or"
   ]
  },
  {
   "cell_type": "code",
   "execution_count": 23,
   "id": "fa40a8db",
   "metadata": {},
   "outputs": [
    {
     "name": "stdout",
     "output_type": "stream",
     "text": [
      "Atleast two variables are equal\n"
     ]
    }
   ],
   "source": [
    "A = 12\n",
    "B = 14\n",
    "C = 12\n",
    "if A==B or A==C or B == C:\n",
    "    print(\"Atleast two variables are equal\")"
   ]
  },
  {
   "cell_type": "code",
   "execution_count": 24,
   "id": "0625ba9f",
   "metadata": {},
   "outputs": [
    {
     "name": "stdout",
     "output_type": "stream",
     "text": [
      "None of the variables are equal to each other\n"
     ]
    }
   ],
   "source": [
    "A = 12\n",
    "B = 14\n",
    "C = 123\n",
    "if A==B or A==C or B == C:\n",
    "    print(\"Atleast two variables are equal\")\n",
    "else:\n",
    "    print(\"None of the variables are equal to each other\")"
   ]
  },
  {
   "cell_type": "markdown",
   "id": "18010b1b",
   "metadata": {},
   "source": [
    "### not"
   ]
  },
  {
   "cell_type": "code",
   "execution_count": 29,
   "id": "b43da732",
   "metadata": {},
   "outputs": [
    {
     "name": "stdout",
     "output_type": "stream",
     "text": [
      "A is true\n"
     ]
    }
   ],
   "source": [
    "A = 100\n",
    "if A:\n",
    "    print(\"A is true\")\n",
    "else:\n",
    "    print(\"A is false\")"
   ]
  },
  {
   "cell_type": "code",
   "execution_count": 28,
   "id": "f560077c",
   "metadata": {},
   "outputs": [
    {
     "name": "stdout",
     "output_type": "stream",
     "text": [
      "not A is false\n"
     ]
    }
   ],
   "source": [
    "A = 100\n",
    "if not A:\n",
    "    print(\"not A is true\")\n",
    "else:\n",
    "    print(\"not A is false\")"
   ]
  },
  {
   "cell_type": "code",
   "execution_count": 32,
   "id": "795b20da",
   "metadata": {},
   "outputs": [
    {
     "name": "stdout",
     "output_type": "stream",
     "text": [
      "A is false\n"
     ]
    }
   ],
   "source": [
    "A = 0\n",
    "if A:\n",
    "    print(\"A is true\")\n",
    "else:\n",
    "    print(\"A is false\")"
   ]
  },
  {
   "cell_type": "markdown",
   "id": "d840f2bd",
   "metadata": {},
   "source": [
    "### while"
   ]
  },
  {
   "cell_type": "code",
   "execution_count": 34,
   "id": "983531da",
   "metadata": {},
   "outputs": [
    {
     "name": "stdout",
     "output_type": "stream",
     "text": [
      "1\n",
      "2\n",
      "3\n",
      "4\n"
     ]
    }
   ],
   "source": [
    "i = 1\n",
    "while i < 5:\n",
    "    print(i)\n",
    "    i = i+1"
   ]
  },
  {
   "cell_type": "markdown",
   "id": "661080e6",
   "metadata": {},
   "source": [
    "### for"
   ]
  },
  {
   "cell_type": "code",
   "execution_count": 35,
   "id": "21cb035b",
   "metadata": {},
   "outputs": [
    {
     "name": "stdout",
     "output_type": "stream",
     "text": [
      "1\n",
      "2\n",
      "3\n",
      "4\n",
      "5\n"
     ]
    }
   ],
   "source": [
    "for i in [1, 2, 3, 4, 5]:\n",
    "    print(i)"
   ]
  },
  {
   "cell_type": "code",
   "execution_count": 39,
   "id": "d36f657c",
   "metadata": {},
   "outputs": [],
   "source": [
    "li = [-1, -4, 2, 5, 0, -4, 6, 9, -10]"
   ]
  },
  {
   "cell_type": "code",
   "execution_count": 40,
   "id": "a1357067",
   "metadata": {},
   "outputs": [
    {
     "name": "stdout",
     "output_type": "stream",
     "text": [
      "Negative value detected\n",
      "Negative value detected\n",
      "2\n",
      "5\n",
      "Zero detected\n",
      "Negative value detected\n",
      "6\n",
      "9\n",
      "Negative value detected\n"
     ]
    }
   ],
   "source": [
    "for i in li:\n",
    "    if i > 0:\n",
    "        print(i)\n",
    "    elif i < 0:\n",
    "        print(\"Negative value detected\")\n",
    "    else:\n",
    "        print(\"Zero detected\")"
   ]
  },
  {
   "cell_type": "code",
   "execution_count": 41,
   "id": "8f8a1028",
   "metadata": {},
   "outputs": [],
   "source": [
    "animals = [\"cat\", \"dog\", \"horse\", \"rat\"]"
   ]
  },
  {
   "cell_type": "code",
   "execution_count": 42,
   "id": "71384979",
   "metadata": {},
   "outputs": [
    {
     "name": "stdout",
     "output_type": "stream",
     "text": [
      "cat\n",
      "dog\n",
      "horse\n",
      "rat\n"
     ]
    }
   ],
   "source": [
    "for animal in animals:\n",
    "    print(animal)"
   ]
  },
  {
   "cell_type": "code",
   "execution_count": null,
   "id": "02cefc49",
   "metadata": {},
   "outputs": [],
   "source": []
  }
 ],
 "metadata": {
  "kernelspec": {
   "display_name": "Python 3 (ipykernel)",
   "language": "python",
   "name": "python3"
  },
  "language_info": {
   "codemirror_mode": {
    "name": "ipython",
    "version": 3
   },
   "file_extension": ".py",
   "mimetype": "text/x-python",
   "name": "python",
   "nbconvert_exporter": "python",
   "pygments_lexer": "ipython3",
   "version": "3.9.13"
  }
 },
 "nbformat": 4,
 "nbformat_minor": 5
}
